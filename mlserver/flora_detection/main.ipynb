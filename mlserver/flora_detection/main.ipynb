{
 "cells": [
  {
   "cell_type": "code",
   "execution_count": 1,
   "metadata": {},
   "outputs": [
    {
     "name": "stdout",
     "output_type": "stream",
     "text": [
      "Defaulting to user installation because normal site-packages is not writeable\n",
      "Collecting ultralyticsplus==0.0.28\n",
      "  Downloading ultralyticsplus-0.0.28-py3-none-any.whl.metadata (2.9 kB)\n",
      "Collecting ultralytics==8.0.43\n",
      "  Downloading ultralytics-8.0.43-py3-none-any.whl.metadata (24 kB)\n",
      "Requirement already satisfied: huggingface-hub>=0.12.0 in c:\\users\\aayud\\appdata\\roaming\\python\\python311\\site-packages (from ultralyticsplus==0.0.28) (0.23.4)\n",
      "Requirement already satisfied: fire in c:\\users\\aayud\\appdata\\roaming\\python\\python311\\site-packages (from ultralyticsplus==0.0.28) (0.7.0)\n",
      "Requirement already satisfied: sahi<0.12.0,>=0.11.11 in c:\\users\\aayud\\appdata\\roaming\\python\\python311\\site-packages (from ultralyticsplus==0.0.28) (0.11.20)\n",
      "Requirement already satisfied: pandas in c:\\users\\aayud\\appdata\\roaming\\python\\python311\\site-packages (from ultralyticsplus==0.0.28) (2.2.3)\n",
      "Requirement already satisfied: matplotlib>=3.2.2 in c:\\users\\aayud\\appdata\\roaming\\python\\python311\\site-packages (from ultralytics==8.0.43) (3.7.2)\n",
      "Requirement already satisfied: numpy>=1.18.5 in c:\\users\\aayud\\appdata\\roaming\\python\\python311\\site-packages (from ultralytics==8.0.43) (1.24.3)\n",
      "Requirement already satisfied: opencv-python>=4.6.0 in c:\\users\\aayud\\appdata\\roaming\\python\\python311\\site-packages (from ultralytics==8.0.43) (4.10.0.84)\n",
      "Requirement already satisfied: Pillow>=7.1.2 in c:\\users\\aayud\\appdata\\roaming\\python\\python311\\site-packages (from ultralytics==8.0.43) (10.4.0)\n",
      "Requirement already satisfied: PyYAML>=5.3.1 in c:\\users\\aayud\\appdata\\roaming\\python\\python311\\site-packages (from ultralytics==8.0.43) (6.0.1)\n",
      "Requirement already satisfied: requests>=2.23.0 in c:\\users\\aayud\\appdata\\roaming\\python\\python311\\site-packages (from ultralytics==8.0.43) (2.32.3)\n",
      "Requirement already satisfied: scipy>=1.4.1 in c:\\users\\aayud\\appdata\\roaming\\python\\python311\\site-packages (from ultralytics==8.0.43) (1.11.1)\n",
      "Requirement already satisfied: torch>=1.7.0 in c:\\users\\aayud\\appdata\\roaming\\python\\python311\\site-packages (from ultralytics==8.0.43) (2.3.1+cu121)\n",
      "Requirement already satisfied: torchvision>=0.8.1 in c:\\users\\aayud\\appdata\\roaming\\python\\python311\\site-packages (from ultralytics==8.0.43) (0.18.1+cu121)\n",
      "Requirement already satisfied: tqdm>=4.64.0 in c:\\users\\aayud\\appdata\\roaming\\python\\python311\\site-packages (from ultralytics==8.0.43) (4.67.1)\n",
      "Requirement already satisfied: tensorboard>=2.4.1 in c:\\users\\aayud\\appdata\\roaming\\python\\python311\\site-packages (from ultralytics==8.0.43) (2.13.0)\n",
      "Requirement already satisfied: seaborn>=0.11.0 in c:\\users\\aayud\\appdata\\roaming\\python\\python311\\site-packages (from ultralytics==8.0.43) (0.13.2)\n",
      "Requirement already satisfied: psutil in c:\\users\\aayud\\appdata\\roaming\\python\\python311\\site-packages (from ultralytics==8.0.43) (5.9.5)\n",
      "Requirement already satisfied: thop>=0.1.1 in c:\\users\\aayud\\appdata\\roaming\\python\\python311\\site-packages (from ultralytics==8.0.43) (0.1.1.post2209072238)\n",
      "Requirement already satisfied: wheel>=0.38.0 in c:\\users\\aayud\\appdata\\roaming\\python\\python311\\site-packages (from ultralytics==8.0.43) (0.41.2)\n",
      "Requirement already satisfied: sentry-sdk in c:\\users\\aayud\\appdata\\roaming\\python\\python311\\site-packages (from ultralytics==8.0.43) (2.9.0)\n",
      "Requirement already satisfied: filelock in c:\\users\\aayud\\appdata\\roaming\\python\\python311\\site-packages (from huggingface-hub>=0.12.0->ultralyticsplus==0.0.28) (3.13.1)\n",
      "Requirement already satisfied: fsspec>=2023.5.0 in c:\\users\\aayud\\appdata\\roaming\\python\\python311\\site-packages (from huggingface-hub>=0.12.0->ultralyticsplus==0.0.28) (2024.2.0)\n",
      "Requirement already satisfied: packaging>=20.9 in c:\\users\\aayud\\appdata\\roaming\\python\\python311\\site-packages (from huggingface-hub>=0.12.0->ultralyticsplus==0.0.28) (24.2)\n",
      "Requirement already satisfied: typing-extensions>=3.7.4.3 in c:\\users\\aayud\\appdata\\roaming\\python\\python311\\site-packages (from huggingface-hub>=0.12.0->ultralyticsplus==0.0.28) (4.12.2)\n",
      "Requirement already satisfied: contourpy>=1.0.1 in c:\\users\\aayud\\appdata\\roaming\\python\\python311\\site-packages (from matplotlib>=3.2.2->ultralytics==8.0.43) (1.1.0)\n",
      "Requirement already satisfied: cycler>=0.10 in c:\\users\\aayud\\appdata\\roaming\\python\\python311\\site-packages (from matplotlib>=3.2.2->ultralytics==8.0.43) (0.11.0)\n",
      "Requirement already satisfied: fonttools>=4.22.0 in c:\\users\\aayud\\appdata\\roaming\\python\\python311\\site-packages (from matplotlib>=3.2.2->ultralytics==8.0.43) (4.42.1)\n",
      "Requirement already satisfied: kiwisolver>=1.0.1 in c:\\users\\aayud\\appdata\\roaming\\python\\python311\\site-packages (from matplotlib>=3.2.2->ultralytics==8.0.43) (1.4.5)\n",
      "Requirement already satisfied: pyparsing<3.1,>=2.3.1 in c:\\users\\aayud\\appdata\\roaming\\python\\python311\\site-packages (from matplotlib>=3.2.2->ultralytics==8.0.43) (3.0.9)\n",
      "Requirement already satisfied: python-dateutil>=2.7 in c:\\users\\aayud\\appdata\\roaming\\python\\python311\\site-packages (from matplotlib>=3.2.2->ultralytics==8.0.43) (2.8.2)\n",
      "Requirement already satisfied: pytz>=2020.1 in c:\\users\\aayud\\appdata\\roaming\\python\\python311\\site-packages (from pandas->ultralyticsplus==0.0.28) (2023.3)\n",
      "Requirement already satisfied: tzdata>=2022.7 in c:\\users\\aayud\\appdata\\roaming\\python\\python311\\site-packages (from pandas->ultralyticsplus==0.0.28) (2023.3)\n",
      "Requirement already satisfied: charset-normalizer<4,>=2 in c:\\users\\aayud\\appdata\\roaming\\python\\python311\\site-packages (from requests>=2.23.0->ultralytics==8.0.43) (3.2.0)\n",
      "Requirement already satisfied: idna<4,>=2.5 in c:\\users\\aayud\\appdata\\roaming\\python\\python311\\site-packages (from requests>=2.23.0->ultralytics==8.0.43) (3.7)\n",
      "Requirement already satisfied: urllib3<3,>=1.21.1 in c:\\users\\aayud\\appdata\\roaming\\python\\python311\\site-packages (from requests>=2.23.0->ultralytics==8.0.43) (2.3.0)\n",
      "Requirement already satisfied: certifi>=2017.4.17 in c:\\users\\aayud\\appdata\\roaming\\python\\python311\\site-packages (from requests>=2.23.0->ultralytics==8.0.43) (2023.7.22)\n",
      "Requirement already satisfied: shapely>=2.0.0 in c:\\users\\aayud\\appdata\\roaming\\python\\python311\\site-packages (from sahi<0.12.0,>=0.11.11->ultralyticsplus==0.0.28) (2.0.4)\n",
      "Requirement already satisfied: pybboxes==0.1.6 in c:\\users\\aayud\\appdata\\roaming\\python\\python311\\site-packages (from sahi<0.12.0,>=0.11.11->ultralyticsplus==0.0.28) (0.1.6)\n",
      "Requirement already satisfied: terminaltables in c:\\users\\aayud\\appdata\\roaming\\python\\python311\\site-packages (from sahi<0.12.0,>=0.11.11->ultralyticsplus==0.0.28) (3.1.10)\n",
      "Requirement already satisfied: click in c:\\users\\aayud\\appdata\\roaming\\python\\python311\\site-packages (from sahi<0.12.0,>=0.11.11->ultralyticsplus==0.0.28) (8.1.7)\n",
      "Requirement already satisfied: absl-py>=0.4 in c:\\users\\aayud\\appdata\\roaming\\python\\python311\\site-packages (from tensorboard>=2.4.1->ultralytics==8.0.43) (1.4.0)\n",
      "Requirement already satisfied: grpcio>=1.48.2 in c:\\users\\aayud\\appdata\\roaming\\python\\python311\\site-packages (from tensorboard>=2.4.1->ultralytics==8.0.43) (1.69.0)\n",
      "Requirement already satisfied: google-auth<3,>=1.6.3 in c:\\users\\aayud\\appdata\\roaming\\python\\python311\\site-packages (from tensorboard>=2.4.1->ultralytics==8.0.43) (2.37.0)\n",
      "Requirement already satisfied: google-auth-oauthlib<1.1,>=0.5 in c:\\users\\aayud\\appdata\\roaming\\python\\python311\\site-packages (from tensorboard>=2.4.1->ultralytics==8.0.43) (1.0.0)\n",
      "Requirement already satisfied: markdown>=2.6.8 in c:\\users\\aayud\\appdata\\roaming\\python\\python311\\site-packages (from tensorboard>=2.4.1->ultralytics==8.0.43) (3.4.4)\n",
      "Requirement already satisfied: protobuf>=3.19.6 in c:\\users\\aayud\\appdata\\roaming\\python\\python311\\site-packages (from tensorboard>=2.4.1->ultralytics==8.0.43) (3.20.1)\n",
      "Requirement already satisfied: setuptools>=41.0.0 in c:\\users\\aayud\\appdata\\roaming\\python\\python311\\site-packages (from tensorboard>=2.4.1->ultralytics==8.0.43) (70.1.0)\n",
      "Requirement already satisfied: tensorboard-data-server<0.8.0,>=0.7.0 in c:\\users\\aayud\\appdata\\roaming\\python\\python311\\site-packages (from tensorboard>=2.4.1->ultralytics==8.0.43) (0.7.1)\n",
      "Requirement already satisfied: werkzeug>=1.0.1 in c:\\users\\aayud\\appdata\\roaming\\python\\python311\\site-packages (from tensorboard>=2.4.1->ultralytics==8.0.43) (3.1.3)\n",
      "Requirement already satisfied: sympy in c:\\users\\aayud\\appdata\\roaming\\python\\python311\\site-packages (from torch>=1.7.0->ultralytics==8.0.43) (1.12)\n",
      "Requirement already satisfied: networkx in c:\\users\\aayud\\appdata\\roaming\\python\\python311\\site-packages (from torch>=1.7.0->ultralytics==8.0.43) (3.2.1)\n",
      "Requirement already satisfied: jinja2 in c:\\users\\aayud\\appdata\\roaming\\python\\python311\\site-packages (from torch>=1.7.0->ultralytics==8.0.43) (3.1.2)\n",
      "Requirement already satisfied: mkl<=2021.4.0,>=2021.1.1 in c:\\users\\aayud\\appdata\\roaming\\python\\python311\\site-packages (from torch>=1.7.0->ultralytics==8.0.43) (2021.4.0)\n",
      "Requirement already satisfied: colorama in c:\\users\\aayud\\appdata\\roaming\\python\\python311\\site-packages (from tqdm>=4.64.0->ultralytics==8.0.43) (0.4.6)\n",
      "Requirement already satisfied: termcolor in c:\\users\\aayud\\appdata\\roaming\\python\\python311\\site-packages (from fire->ultralyticsplus==0.0.28) (2.3.0)\n",
      "Requirement already satisfied: cachetools<6.0,>=2.0.0 in c:\\users\\aayud\\appdata\\roaming\\python\\python311\\site-packages (from google-auth<3,>=1.6.3->tensorboard>=2.4.1->ultralytics==8.0.43) (5.3.1)\n",
      "Requirement already satisfied: pyasn1-modules>=0.2.1 in c:\\users\\aayud\\appdata\\roaming\\python\\python311\\site-packages (from google-auth<3,>=1.6.3->tensorboard>=2.4.1->ultralytics==8.0.43) (0.3.0)\n",
      "Requirement already satisfied: rsa<5,>=3.1.4 in c:\\users\\aayud\\appdata\\roaming\\python\\python311\\site-packages (from google-auth<3,>=1.6.3->tensorboard>=2.4.1->ultralytics==8.0.43) (4.9)\n",
      "Requirement already satisfied: requests-oauthlib>=0.7.0 in c:\\users\\aayud\\appdata\\roaming\\python\\python311\\site-packages (from google-auth-oauthlib<1.1,>=0.5->tensorboard>=2.4.1->ultralytics==8.0.43) (1.3.1)\n",
      "Requirement already satisfied: intel-openmp==2021.* in c:\\users\\aayud\\appdata\\roaming\\python\\python311\\site-packages (from mkl<=2021.4.0,>=2021.1.1->torch>=1.7.0->ultralytics==8.0.43) (2021.4.0)\n",
      "Requirement already satisfied: tbb==2021.* in c:\\users\\aayud\\appdata\\roaming\\python\\python311\\site-packages (from mkl<=2021.4.0,>=2021.1.1->torch>=1.7.0->ultralytics==8.0.43) (2021.11.0)\n",
      "Requirement already satisfied: six>=1.5 in c:\\users\\aayud\\appdata\\roaming\\python\\python311\\site-packages (from python-dateutil>=2.7->matplotlib>=3.2.2->ultralytics==8.0.43) (1.16.0)\n",
      "Requirement already satisfied: MarkupSafe>=2.1.1 in c:\\users\\aayud\\appdata\\roaming\\python\\python311\\site-packages (from werkzeug>=1.0.1->tensorboard>=2.4.1->ultralytics==8.0.43) (2.1.3)\n",
      "Requirement already satisfied: mpmath>=0.19 in c:\\users\\aayud\\appdata\\roaming\\python\\python311\\site-packages (from sympy->torch>=1.7.0->ultralytics==8.0.43) (1.2.1)\n",
      "Requirement already satisfied: pyasn1<0.6.0,>=0.4.6 in c:\\users\\aayud\\appdata\\roaming\\python\\python311\\site-packages (from pyasn1-modules>=0.2.1->google-auth<3,>=1.6.3->tensorboard>=2.4.1->ultralytics==8.0.43) (0.5.0)\n",
      "Requirement already satisfied: oauthlib>=3.0.0 in c:\\users\\aayud\\appdata\\roaming\\python\\python311\\site-packages (from requests-oauthlib>=0.7.0->google-auth-oauthlib<1.1,>=0.5->tensorboard>=2.4.1->ultralytics==8.0.43) (3.2.2)\n",
      "Downloading ultralyticsplus-0.0.28-py3-none-any.whl (11 kB)\n",
      "Downloading ultralytics-8.0.43-py3-none-any.whl (299 kB)\n",
      "Installing collected packages: ultralytics, ultralyticsplus\n",
      "  Attempting uninstall: ultralytics\n",
      "    Found existing installation: ultralytics 8.3.51\n",
      "    Uninstalling ultralytics-8.3.51:\n",
      "      Successfully uninstalled ultralytics-8.3.51\n",
      "Successfully installed ultralytics-8.0.43 ultralyticsplus-0.0.28\n"
     ]
    },
    {
     "name": "stderr",
     "output_type": "stream",
     "text": [
      "WARNING: Ignoring invalid distribution ~orch (C:\\Users\\aayud\\AppData\\Roaming\\Python\\Python311\\site-packages)\n",
      "WARNING: Ignoring invalid distribution ~rotobuf (C:\\Users\\aayud\\AppData\\Roaming\\Python\\Python311\\site-packages)\n",
      "WARNING: Ignoring invalid distribution ~orch (C:\\Users\\aayud\\AppData\\Roaming\\Python\\Python311\\site-packages)\n",
      "WARNING: Ignoring invalid distribution ~rotobuf (C:\\Users\\aayud\\AppData\\Roaming\\Python\\Python311\\site-packages)\n",
      "WARNING: Ignoring invalid distribution ~orch (C:\\Users\\aayud\\AppData\\Roaming\\Python\\Python311\\site-packages)\n",
      "WARNING: Ignoring invalid distribution ~rotobuf (C:\\Users\\aayud\\AppData\\Roaming\\Python\\Python311\\site-packages)\n",
      "ERROR: pip's dependency resolver does not currently take into account all the packages that are installed. This behaviour is the source of the following dependency conflicts.\n",
      "yolov5 7.0.14 requires ultralytics>=8.0.100, but you have ultralytics 8.0.43 which is incompatible.\n"
     ]
    }
   ],
   "source": [
    "!pip install ultralyticsplus==0.0.28 ultralytics==8.0.43"
   ]
  },
  {
   "cell_type": "code",
   "execution_count": 25,
   "metadata": {},
   "outputs": [
    {
     "name": "stderr",
     "output_type": "stream",
     "text": [
      "Ultralytics YOLOv8.0.43  Python-3.11.5 torch-2.3.1+cu121 CUDA:0 (NVIDIA GeForce RTX 3060 Laptop GPU, 6144MiB)\n",
      "Model summary (fused): 168 layers, 11143386 parameters, 0 gradients, 28.5 GFLOPs\n",
      "\n",
      "image 1/1 C:\\Users\\aayud\\OneDrive\\Desktop\\VS Code\\Web Dev\\TSEC Hacks Artemis\\mlserver\\flora_detection\\test\\banana.jpeg: 480x640 2 bananas, 19.9ms\n",
      "Speed: 1.3ms preprocess, 19.9ms inference, 5.1ms postprocess per image at shape (1, 3, 640, 640)\n",
      "\n",
      "image 1/1 C:\\Users\\aayud\\OneDrive\\Desktop\\VS Code\\Web Dev\\TSEC Hacks Artemis\\mlserver\\flora_detection\\test\\cardamom.jpeg: 448x640 1 peach, 3 cardamoms, 21.7ms\n",
      "Speed: 1.0ms preprocess, 21.7ms inference, 3.0ms postprocess per image at shape (1, 3, 640, 640)\n",
      "\n",
      "image 1/1 C:\\Users\\aayud\\OneDrive\\Desktop\\VS Code\\Web Dev\\TSEC Hacks Artemis\\mlserver\\flora_detection\\test\\cotton.jpeg: 448x640 2 cottons, 18.0ms\n",
      "Speed: 1.0ms preprocess, 18.0ms inference, 4.4ms postprocess per image at shape (1, 3, 640, 640)\n"
     ]
    },
    {
     "name": "stdout",
     "output_type": "stream",
     "text": [
      "tensor([[  0.00000,  60.00000,  82.00000, 185.00000,   0.71250,   1.00000],\n",
      "        [158.00000,  93.00000, 268.00000, 188.00000,   0.28591,   1.00000]], device='cuda:0')\n",
      "tensor([[9.10000e+01, 3.10000e+01, 1.40000e+02, 1.37000e+02, 5.95268e-01, 4.50000e+01],\n",
      "        [1.32000e+02, 2.90000e+01, 1.65000e+02, 1.73000e+02, 5.61128e-01, 4.50000e+01],\n",
      "        [1.99000e+02, 3.00000e+01, 2.56000e+02, 1.83000e+02, 4.27385e-01, 3.30000e+01],\n",
      "        [1.85000e+02, 2.70000e+01, 2.16000e+02, 1.69000e+02, 2.53599e-01, 4.50000e+01]], device='cuda:0')\n",
      "tensor([[ 14.00000,   9.00000, 181.00000, 178.00000,   0.71773,  10.00000],\n",
      "        [161.00000,  42.00000, 256.00000, 146.00000,   0.48565,  10.00000]], device='cuda:0')\n"
     ]
    }
   ],
   "source": [
    "import os\n",
    "from ultralyticsplus import YOLO, render_result\n",
    "\n",
    "# Load the model\n",
    "model = YOLO('foduucom/plant-leaf-detection-and-classification')\n",
    "\n",
    "model.overrides['conf'] = 0.1  # NMS confidence threshold\n",
    "model.overrides['iou'] = 0.15  # NMS IoU threshold\n",
    "model.overrides['agnostic_nms'] = False  # NMS class-agnostic\n",
    "model.overrides['max_det'] = 1000  # maximum number of detections per image\n",
    "\n",
    "# Path to the test images folder\n",
    "test_images_folder = './test'  # Replace with the path to your test images folder\n",
    "\n",
    "# Function to perform inference on an image and display the results\n",
    "def perform_inference(model, image_path):\n",
    "    results = model.predict(image_path)\n",
    "    print(results[0].boxes)\n",
    "    render = render_result(model=model, image=image_path, result=results[0])\n",
    "    render.show()\n",
    "\n",
    "for image_file in os.listdir(test_images_folder):\n",
    "    if image_file.endswith(('.jpg', '.jpeg', '.png')):  # Check for valid image file extensions\n",
    "        image_path = os.path.join(test_images_folder, image_file)\n",
    "        perform_inference(model, image_path)"
   ]
  }
 ],
 "metadata": {
  "kernelspec": {
   "display_name": "Python 3",
   "language": "python",
   "name": "python3"
  },
  "language_info": {
   "codemirror_mode": {
    "name": "ipython",
    "version": 3
   },
   "file_extension": ".py",
   "mimetype": "text/x-python",
   "name": "python",
   "nbconvert_exporter": "python",
   "pygments_lexer": "ipython3",
   "version": "3.11.5"
  }
 },
 "nbformat": 4,
 "nbformat_minor": 2
}
