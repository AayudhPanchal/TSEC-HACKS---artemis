{
 "cells": [
  {
   "cell_type": "code",
   "execution_count": 1,
   "metadata": {},
   "outputs": [
    {
     "name": "stdout",
     "output_type": "stream",
     "text": [
      "Collecting ultralyticsplus==0.0.28\n",
      "  Downloading ultralyticsplus-0.0.28-py3-none-any.whl.metadata (2.9 kB)\n",
      "Collecting ultralytics==8.0.43\n",
      "  Downloading ultralytics-8.0.43-py3-none-any.whl.metadata (24 kB)\n",
      "Collecting huggingface-hub>=0.12.0 (from ultralyticsplus==0.0.28)\n",
      "  Downloading huggingface_hub-0.28.0-py3-none-any.whl.metadata (13 kB)\n",
      "Requirement already satisfied: fire in c:\\users\\neems\\appdata\\local\\programs\\python\\python312\\lib\\site-packages (from ultralyticsplus==0.0.28) (0.7.0)\n",
      "Collecting sahi<0.12.0,>=0.11.11 (from ultralyticsplus==0.0.28)\n",
      "  Downloading sahi-0.11.20-py3-none-any.whl.metadata (17 kB)\n",
      "Requirement already satisfied: pandas in c:\\users\\neems\\appdata\\local\\programs\\python\\python312\\lib\\site-packages (from ultralyticsplus==0.0.28) (2.2.3)\n",
      "Requirement already satisfied: matplotlib>=3.2.2 in c:\\users\\neems\\appdata\\local\\programs\\python\\python312\\lib\\site-packages (from ultralytics==8.0.43) (3.9.2)\n",
      "Requirement already satisfied: numpy>=1.18.5 in c:\\users\\neems\\appdata\\local\\programs\\python\\python312\\lib\\site-packages (from ultralytics==8.0.43) (1.26.3)\n",
      "Requirement already satisfied: opencv-python>=4.6.0 in c:\\users\\neems\\appdata\\local\\programs\\python\\python312\\lib\\site-packages (from ultralytics==8.0.43) (4.10.0.84)\n",
      "Requirement already satisfied: Pillow>=7.1.2 in c:\\users\\neems\\appdata\\local\\programs\\python\\python312\\lib\\site-packages (from ultralytics==8.0.43) (10.2.0)\n",
      "Requirement already satisfied: PyYAML>=5.3.1 in c:\\users\\neems\\appdata\\local\\programs\\python\\python312\\lib\\site-packages (from ultralytics==8.0.43) (6.0.2)\n",
      "Requirement already satisfied: requests>=2.23.0 in c:\\users\\neems\\appdata\\local\\programs\\python\\python312\\lib\\site-packages (from ultralytics==8.0.43) (2.32.3)\n",
      "Requirement already satisfied: scipy>=1.4.1 in c:\\users\\neems\\appdata\\local\\programs\\python\\python312\\lib\\site-packages (from ultralytics==8.0.43) (1.14.1)\n",
      "Requirement already satisfied: torch>=1.7.0 in c:\\users\\neems\\appdata\\local\\programs\\python\\python312\\lib\\site-packages (from ultralytics==8.0.43) (2.5.0+cu124)\n",
      "Requirement already satisfied: torchvision>=0.8.1 in c:\\users\\neems\\appdata\\local\\programs\\python\\python312\\lib\\site-packages (from ultralytics==8.0.43) (0.20.0+cu124)\n",
      "Requirement already satisfied: tqdm>=4.64.0 in c:\\users\\neems\\appdata\\local\\programs\\python\\python312\\lib\\site-packages (from ultralytics==8.0.43) (4.67.1)\n",
      "Requirement already satisfied: tensorboard>=2.4.1 in c:\\users\\neems\\appdata\\local\\programs\\python\\python312\\lib\\site-packages (from ultralytics==8.0.43) (2.18.0)\n",
      "Requirement already satisfied: seaborn>=0.11.0 in c:\\users\\neems\\appdata\\local\\programs\\python\\python312\\lib\\site-packages (from ultralytics==8.0.43) (0.13.2)\n",
      "Requirement already satisfied: psutil in c:\\users\\neems\\appdata\\roaming\\python\\python312\\site-packages (from ultralytics==8.0.43) (6.1.0)\n",
      "Collecting thop>=0.1.1 (from ultralytics==8.0.43)\n",
      "  Downloading thop-0.1.1.post2209072238-py3-none-any.whl.metadata (2.7 kB)\n",
      "Requirement already satisfied: wheel>=0.38.0 in c:\\users\\neems\\appdata\\local\\programs\\python\\python312\\lib\\site-packages (from ultralytics==8.0.43) (0.44.0)\n",
      "Collecting sentry-sdk (from ultralytics==8.0.43)\n",
      "  Downloading sentry_sdk-2.20.0-py2.py3-none-any.whl.metadata (10 kB)\n",
      "Requirement already satisfied: filelock in c:\\users\\neems\\appdata\\local\\programs\\python\\python312\\lib\\site-packages (from huggingface-hub>=0.12.0->ultralyticsplus==0.0.28) (3.13.1)\n",
      "Requirement already satisfied: fsspec>=2023.5.0 in c:\\users\\neems\\appdata\\local\\programs\\python\\python312\\lib\\site-packages (from huggingface-hub>=0.12.0->ultralyticsplus==0.0.28) (2024.2.0)\n",
      "Requirement already satisfied: packaging>=20.9 in c:\\users\\neems\\appdata\\local\\programs\\python\\python312\\lib\\site-packages (from huggingface-hub>=0.12.0->ultralyticsplus==0.0.28) (24.1)\n",
      "Requirement already satisfied: typing-extensions>=3.7.4.3 in c:\\users\\neems\\appdata\\local\\programs\\python\\python312\\lib\\site-packages (from huggingface-hub>=0.12.0->ultralyticsplus==0.0.28) (4.12.2)\n",
      "Requirement already satisfied: contourpy>=1.0.1 in c:\\users\\neems\\appdata\\local\\programs\\python\\python312\\lib\\site-packages (from matplotlib>=3.2.2->ultralytics==8.0.43) (1.3.0)\n",
      "Requirement already satisfied: cycler>=0.10 in c:\\users\\neems\\appdata\\local\\programs\\python\\python312\\lib\\site-packages (from matplotlib>=3.2.2->ultralytics==8.0.43) (0.12.1)\n",
      "Requirement already satisfied: fonttools>=4.22.0 in c:\\users\\neems\\appdata\\local\\programs\\python\\python312\\lib\\site-packages (from matplotlib>=3.2.2->ultralytics==8.0.43) (4.54.1)\n",
      "Requirement already satisfied: kiwisolver>=1.3.1 in c:\\users\\neems\\appdata\\local\\programs\\python\\python312\\lib\\site-packages (from matplotlib>=3.2.2->ultralytics==8.0.43) (1.4.7)\n",
      "Requirement already satisfied: pyparsing>=2.3.1 in c:\\users\\neems\\appdata\\local\\programs\\python\\python312\\lib\\site-packages (from matplotlib>=3.2.2->ultralytics==8.0.43) (3.2.0)\n",
      "Requirement already satisfied: python-dateutil>=2.7 in c:\\users\\neems\\appdata\\roaming\\python\\python312\\site-packages (from matplotlib>=3.2.2->ultralytics==8.0.43) (2.9.0.post0)\n",
      "Requirement already satisfied: pytz>=2020.1 in c:\\users\\neems\\appdata\\local\\programs\\python\\python312\\lib\\site-packages (from pandas->ultralyticsplus==0.0.28) (2024.2)\n",
      "Requirement already satisfied: tzdata>=2022.7 in c:\\users\\neems\\appdata\\local\\programs\\python\\python312\\lib\\site-packages (from pandas->ultralyticsplus==0.0.28) (2024.2)\n",
      "Requirement already satisfied: charset-normalizer<4,>=2 in c:\\users\\neems\\appdata\\local\\programs\\python\\python312\\lib\\site-packages (from requests>=2.23.0->ultralytics==8.0.43) (3.4.0)\n",
      "Requirement already satisfied: idna<4,>=2.5 in c:\\users\\neems\\appdata\\local\\programs\\python\\python312\\lib\\site-packages (from requests>=2.23.0->ultralytics==8.0.43) (3.10)\n",
      "Requirement already satisfied: urllib3<3,>=1.21.1 in c:\\users\\neems\\appdata\\local\\programs\\python\\python312\\lib\\site-packages (from requests>=2.23.0->ultralytics==8.0.43) (2.2.3)\n",
      "Requirement already satisfied: certifi>=2017.4.17 in c:\\users\\neems\\appdata\\local\\programs\\python\\python312\\lib\\site-packages (from requests>=2.23.0->ultralytics==8.0.43) (2024.8.30)\n",
      "Requirement already satisfied: shapely>=2.0.0 in c:\\users\\neems\\appdata\\local\\programs\\python\\python312\\lib\\site-packages (from sahi<0.12.0,>=0.11.11->ultralyticsplus==0.0.28) (2.0.6)\n",
      "Collecting pybboxes==0.1.6 (from sahi<0.12.0,>=0.11.11->ultralyticsplus==0.0.28)\n",
      "  Downloading pybboxes-0.1.6-py3-none-any.whl.metadata (9.9 kB)\n",
      "Collecting terminaltables (from sahi<0.12.0,>=0.11.11->ultralyticsplus==0.0.28)\n",
      "  Downloading terminaltables-3.1.10-py2.py3-none-any.whl.metadata (3.5 kB)\n",
      "Requirement already satisfied: click in c:\\users\\neems\\appdata\\local\\programs\\python\\python312\\lib\\site-packages (from sahi<0.12.0,>=0.11.11->ultralyticsplus==0.0.28) (8.1.7)\n",
      "Requirement already satisfied: absl-py>=0.4 in c:\\users\\neems\\appdata\\local\\programs\\python\\python312\\lib\\site-packages (from tensorboard>=2.4.1->ultralytics==8.0.43) (2.1.0)\n",
      "Requirement already satisfied: grpcio>=1.48.2 in c:\\users\\neems\\appdata\\local\\programs\\python\\python312\\lib\\site-packages (from tensorboard>=2.4.1->ultralytics==8.0.43) (1.67.1)\n",
      "Requirement already satisfied: markdown>=2.6.8 in c:\\users\\neems\\appdata\\local\\programs\\python\\python312\\lib\\site-packages (from tensorboard>=2.4.1->ultralytics==8.0.43) (3.7)\n",
      "Requirement already satisfied: protobuf!=4.24.0,>=3.19.6 in c:\\users\\neems\\appdata\\local\\programs\\python\\python312\\lib\\site-packages (from tensorboard>=2.4.1->ultralytics==8.0.43) (3.20.2)\n",
      "Requirement already satisfied: setuptools>=41.0.0 in c:\\users\\neems\\appdata\\local\\programs\\python\\python312\\lib\\site-packages (from tensorboard>=2.4.1->ultralytics==8.0.43) (70.0.0)\n",
      "Requirement already satisfied: six>1.9 in c:\\users\\neems\\appdata\\roaming\\python\\python312\\site-packages (from tensorboard>=2.4.1->ultralytics==8.0.43) (1.16.0)\n",
      "Requirement already satisfied: tensorboard-data-server<0.8.0,>=0.7.0 in c:\\users\\neems\\appdata\\local\\programs\\python\\python312\\lib\\site-packages (from tensorboard>=2.4.1->ultralytics==8.0.43) (0.7.2)\n",
      "Requirement already satisfied: werkzeug>=1.0.1 in c:\\users\\neems\\appdata\\local\\programs\\python\\python312\\lib\\site-packages (from tensorboard>=2.4.1->ultralytics==8.0.43) (3.0.6)\n",
      "Requirement already satisfied: networkx in c:\\users\\neems\\appdata\\local\\programs\\python\\python312\\lib\\site-packages (from torch>=1.7.0->ultralytics==8.0.43) (3.2.1)\n",
      "Requirement already satisfied: jinja2 in c:\\users\\neems\\appdata\\local\\programs\\python\\python312\\lib\\site-packages (from torch>=1.7.0->ultralytics==8.0.43) (3.1.3)\n",
      "Requirement already satisfied: sympy==1.13.1 in c:\\users\\neems\\appdata\\local\\programs\\python\\python312\\lib\\site-packages (from torch>=1.7.0->ultralytics==8.0.43) (1.13.1)\n",
      "Requirement already satisfied: mpmath<1.4,>=1.1.0 in c:\\users\\neems\\appdata\\local\\programs\\python\\python312\\lib\\site-packages (from sympy==1.13.1->torch>=1.7.0->ultralytics==8.0.43) (1.3.0)\n",
      "Requirement already satisfied: colorama in c:\\users\\neems\\appdata\\local\\programs\\python\\python312\\lib\\site-packages (from tqdm>=4.64.0->ultralytics==8.0.43) (0.4.6)\n",
      "Requirement already satisfied: termcolor in c:\\users\\neems\\appdata\\local\\programs\\python\\python312\\lib\\site-packages (from fire->ultralyticsplus==0.0.28) (2.5.0)\n",
      "Requirement already satisfied: MarkupSafe>=2.1.1 in c:\\users\\neems\\appdata\\local\\programs\\python\\python312\\lib\\site-packages (from werkzeug>=1.0.1->tensorboard>=2.4.1->ultralytics==8.0.43) (2.1.5)\n",
      "Downloading ultralyticsplus-0.0.28-py3-none-any.whl (11 kB)\n",
      "Downloading ultralytics-8.0.43-py3-none-any.whl (299 kB)\n",
      "Downloading huggingface_hub-0.28.0-py3-none-any.whl (464 kB)\n",
      "Downloading sahi-0.11.20-py3-none-any.whl (112 kB)\n",
      "Downloading pybboxes-0.1.6-py3-none-any.whl (24 kB)\n",
      "Downloading thop-0.1.1.post2209072238-py3-none-any.whl (15 kB)\n",
      "Downloading sentry_sdk-2.20.0-py2.py3-none-any.whl (322 kB)\n",
      "Downloading terminaltables-3.1.10-py2.py3-none-any.whl (15 kB)\n",
      "Installing collected packages: terminaltables, sentry-sdk, pybboxes, sahi, huggingface-hub, thop, ultralytics, ultralyticsplus\n",
      "Successfully installed huggingface-hub-0.28.0 pybboxes-0.1.6 sahi-0.11.20 sentry-sdk-2.20.0 terminaltables-3.1.10 thop-0.1.1.post2209072238 ultralytics-8.0.43 ultralyticsplus-0.0.28\n"
     ]
    },
    {
     "name": "stderr",
     "output_type": "stream",
     "text": [
      "\n",
      "[notice] A new release of pip is available: 24.3.1 -> 25.0\n",
      "[notice] To update, run: python.exe -m pip install --upgrade pip\n"
     ]
    }
   ],
   "source": [
    "!pip install ultralyticsplus==0.0.28 ultralytics==8.0.43"
   ]
  },
  {
   "cell_type": "code",
   "execution_count": 3,
   "metadata": {},
   "outputs": [
    {
     "name": "stderr",
     "output_type": "stream",
     "text": [
      "Ultralytics YOLOv8.0.43  Python-3.12.0 torch-2.5.0+cu124 CUDA:0 (NVIDIA GeForce RTX 3050 Laptop GPU, 4096MiB)\n",
      "Model summary (fused): 168 layers, 11143386 parameters, 0 gradients, 28.5 GFLOPs\n",
      "\n",
      "WARNING  NMS time limit 0.550s exceeded\n",
      "image 1/1 E:\\Programs\\TSEC\\TSEC-HACKS---artemis\\mlserver\\flora_detection\\test\\banana.jpeg: 480x640 2 bananas, 609.2ms\n",
      "Speed: 32.2ms preprocess, 609.2ms inference, 929.2ms postprocess per image at shape (1, 3, 640, 640)\n"
     ]
    },
    {
     "name": "stdout",
     "output_type": "stream",
     "text": [
      "tensor([[  0.00000,  60.00000,  82.00000, 185.00000,   0.71247,   1.00000],\n",
      "        [158.00000,  93.00000, 268.00000, 188.00000,   0.28622,   1.00000]], device='cuda:0')\n"
     ]
    },
    {
     "name": "stderr",
     "output_type": "stream",
     "text": [
      "\n",
      "image 1/1 E:\\Programs\\TSEC\\TSEC-HACKS---artemis\\mlserver\\flora_detection\\test\\cardamom.jpeg: 448x640 1 peach, 3 cardamoms, 485.9ms\n",
      "Speed: 4.1ms preprocess, 485.9ms inference, 16.9ms postprocess per image at shape (1, 3, 640, 640)\n"
     ]
    },
    {
     "name": "stdout",
     "output_type": "stream",
     "text": [
      "tensor([[9.10000e+01, 3.10000e+01, 1.40000e+02, 1.37000e+02, 5.95039e-01, 4.50000e+01],\n",
      "        [1.32000e+02, 2.90000e+01, 1.65000e+02, 1.73000e+02, 5.61173e-01, 4.50000e+01],\n",
      "        [1.99000e+02, 3.00000e+01, 2.56000e+02, 1.83000e+02, 4.27530e-01, 3.30000e+01],\n",
      "        [1.85000e+02, 2.70000e+01, 2.16000e+02, 1.69000e+02, 2.53637e-01, 4.50000e+01]], device='cuda:0')\n"
     ]
    },
    {
     "name": "stderr",
     "output_type": "stream",
     "text": [
      "\n",
      "image 1/1 E:\\Programs\\TSEC\\TSEC-HACKS---artemis\\mlserver\\flora_detection\\test\\cotton.jpeg: 448x640 2 cottons, 152.9ms\n",
      "Speed: 3.5ms preprocess, 152.9ms inference, 33.9ms postprocess per image at shape (1, 3, 640, 640)\n"
     ]
    },
    {
     "name": "stdout",
     "output_type": "stream",
     "text": [
      "tensor([[ 14.00000,   9.00000, 181.00000, 178.00000,   0.71758,  10.00000],\n",
      "        [161.00000,  42.00000, 256.00000, 146.00000,   0.48551,  10.00000]], device='cuda:0')\n"
     ]
    }
   ],
   "source": [
    "import os\n",
    "from ultralyticsplus import YOLO, render_result\n",
    "\n",
    "# Load the model\n",
    "model = YOLO('foduucom/plant-leaf-detection-and-classification')\n",
    "\n",
    "model.overrides['conf'] = 0.1  # NMS confidence threshold\n",
    "model.overrides['iou'] = 0.15  # NMS IoU threshold\n",
    "model.overrides['agnostic_nms'] = False  # NMS class-agnostic\n",
    "model.overrides['max_det'] = 1000  # maximum number of detections per image\n",
    "\n",
    "# Path to the test images folder\n",
    "test_images_folder = './test'  # Replace with the path to your test images folder\n",
    "\n",
    "# Function to perform inference on an image and display the results\n",
    "def perform_inference(model, image_path):\n",
    "    results = model.predict(image_path)\n",
    "    print(results[0].boxes)\n",
    "    render = render_result(model=model, image=image_path, result=results[0])\n",
    "    render.show()\n",
    "\n",
    "for image_file in os.listdir(test_images_folder):\n",
    "    if image_file.endswith(('.jpg', '.jpeg', '.png')):  # Check for valid image file extensions\n",
    "        image_path = os.path.join(test_images_folder, image_file)\n",
    "        perform_inference(model, image_path)"
   ]
  },
  {
   "cell_type": "code",
   "execution_count": 5,
   "metadata": {},
   "outputs": [
    {
     "name": "stdout",
     "output_type": "stream",
     "text": [
      "Model saved to ./saved_model.pth\n"
     ]
    }
   ],
   "source": [
    "import torch\n",
    "\n",
    "# Save the configured model\n",
    "model_save_path = './saved_model.pth'\n",
    "torch.save(model.model.state_dict(), model_save_path)\n",
    "print(f\"Model saved to {model_save_path}\")"
   ]
  }
 ],
 "metadata": {
  "kernelspec": {
   "display_name": "Python 3",
   "language": "python",
   "name": "python3"
  },
  "language_info": {
   "codemirror_mode": {
    "name": "ipython",
    "version": 3
   },
   "file_extension": ".py",
   "mimetype": "text/x-python",
   "name": "python",
   "nbconvert_exporter": "python",
   "pygments_lexer": "ipython3",
   "version": "3.11.5"
  }
 },
 "nbformat": 4,
 "nbformat_minor": 2
}
