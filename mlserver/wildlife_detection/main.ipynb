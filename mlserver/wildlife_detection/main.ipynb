{
 "cells": [
  {
   "cell_type": "code",
   "execution_count": null,
   "metadata": {},
   "outputs": [],
   "source": [
    "import os\n",
    "import cv2\n",
    "\n",
    "def normalize_coordinates(label_path, image_path):\n",
    "    # Read the image to get its dimensions\n",
    "    image = cv2.imread(image_path)\n",
    "    if image is None:\n",
    "        print(f\"Image not found: {image_path}\")\n",
    "        return\n",
    "\n",
    "    height, width, _ = image.shape\n",
    "\n",
    "    with open(label_path, 'r') as file:\n",
    "        lines = file.readlines()\n",
    "\n",
    "    normalized_lines = []\n",
    "    for line in lines:\n",
    "        parts = line.strip().split()\n",
    "        class_id = parts[0]\n",
    "        center_x = float(parts[1])\n",
    "        center_y = float(parts[2])\n",
    "        bbox_width = float(parts[3])\n",
    "        bbox_height = float(parts[4])\n",
    "\n",
    "        # Normalize coordinates\n",
    "        center_x /= width\n",
    "        center_y /= height\n",
    "        bbox_width /= width\n",
    "        bbox_height /= height\n",
    "\n",
    "        # Ensure coordinates are between 0 and 1\n",
    "        if 0 <= center_x <= 1 and 0 <= center_y <= 1 and 0 <= bbox_width <= 1 and 0 <= bbox_height <= 1:\n",
    "            normalized_line = f\"{class_id} {center_x} {center_y} {bbox_width} {bbox_height}\\n\"\n",
    "            normalized_lines.append(normalized_line)\n",
    "        else:\n",
    "            print(f\"Skipping corrupt label: {label_path}\")\n",
    "\n",
    "    with open(label_path, 'w') as file:\n",
    "        file.writelines(normalized_lines)\n",
    "\n",
    "# Path to the base directory containing train, test, and val folders\n",
    "base_dir = 'C:/Users/aayud/OneDrive/Desktop/VS Code/Web Dev/TSEC Hacks Artemis/mlserver/wildlife_detection/AOD-20250129T035709Z-002/AOD/data'\n",
    "sets = ['train', 'val']\n",
    "\n",
    "for dataset in sets:\n",
    "    image_dir = os.path.join(base_dir, dataset, 'images')\n",
    "    label_dir = os.path.join(base_dir, dataset, 'labels')\n",
    "\n",
    "    # Normalize coordinates in all label files\n",
    "    for label_file in os.listdir(label_dir):\n",
    "        label_path = os.path.join(label_dir, label_file)\n",
    "        image_path = os.path.join(image_dir, label_file.replace('.txt', '.jpg'))  # Assuming image files are .jpg\n",
    "        normalize_coordinates(label_path, image_path)"
   ]
  },
  {
   "cell_type": "code",
   "execution_count": null,
   "metadata": {},
   "outputs": [],
   "source": [
    "import os\n",
    "import cv2\n",
    "import random\n",
    "import matplotlib.pyplot as plt\n",
    "\n",
    "def load_labels(label_path):\n",
    "    with open(label_path, 'r') as file:\n",
    "        lines = file.readlines()\n",
    "    labels = []\n",
    "    for line in lines:\n",
    "        parts = line.strip().split()\n",
    "        class_id = int(parts[0])\n",
    "        center_x = float(parts[1])\n",
    "        center_y = float(parts[2])\n",
    "        bbox_width = float(parts[3])\n",
    "        bbox_height = float(parts[4])\n",
    "        labels.append((class_id, center_x, center_y, bbox_width, bbox_height))\n",
    "    return labels\n",
    "\n",
    "def draw_bounding_boxes(image, labels):\n",
    "    height, width, _ = image.shape\n",
    "    for label in labels:\n",
    "        class_id, center_x, center_y, bbox_width, bbox_height = label\n",
    "        x1 = int((center_x - bbox_width / 2) * width)\n",
    "        y1 = int((center_y - bbox_height / 2) * height)\n",
    "        x2 = int((center_x + bbox_width / 2) * width)\n",
    "        y2 = int((center_y + bbox_height / 2) * height)\n",
    "        cv2.rectangle(image, (x1, y1), (x2, y2), (0, 255, 0), 2)\n",
    "        cv2.putText(image, str(class_id), (x1, y1 - 10), cv2.FONT_HERSHEY_SIMPLEX, 0.9, (0, 255, 0), 2)\n",
    "    return image\n",
    "\n",
    "def visualize_samples(base_dir, sets, num_samples=5):\n",
    "    for dataset in sets:\n",
    "        image_dir = os.path.join(base_dir, dataset, 'images')\n",
    "        label_dir = os.path.join(base_dir, dataset, 'labels')\n",
    "\n",
    "        image_files = os.listdir(image_dir)\n",
    "        label_files = os.listdir(label_dir)\n",
    "\n",
    "        # Ensure there are corresponding labels and images\n",
    "        image_files = [f for f in image_files if f.replace('.jpg', '.txt') in label_files]\n",
    "        label_files = [f for f in label_files if f.replace('.txt', '.jpg') in image_files]\n",
    "\n",
    "        if len(image_files) == 0 or len(label_files) == 0:\n",
    "            print(f\"No corresponding images and labels found in {dataset} set.\")\n",
    "            continue\n",
    "\n",
    "        sample_files = random.sample(image_files, min(num_samples, len(image_files)))\n",
    "\n",
    "        for image_file in sample_files:\n",
    "            image_path = os.path.join(image_dir, image_file)\n",
    "            label_path = os.path.join(label_dir, image_file.replace('.jpg', '.txt'))  # Assuming image files are .jpg\n",
    "\n",
    "            if not os.path.exists(image_path):\n",
    "                print(f\"Image not found: {image_path}\")\n",
    "                continue\n",
    "\n",
    "            if not os.path.exists(label_path):\n",
    "                print(f\"Label not found: {label_path}\")\n",
    "                continue\n",
    "\n",
    "            image = cv2.imread(image_path)\n",
    "            if image is None:\n",
    "                print(f\"Failed to read image: {image_path}\")\n",
    "                continue\n",
    "\n",
    "            labels = load_labels(label_path)\n",
    "            image_with_boxes = draw_bounding_boxes(image, labels)\n",
    "\n",
    "            plt.figure(figsize=(10, 10))\n",
    "            plt.imshow(cv2.cvtColor(image_with_boxes, cv2.COLOR_BGR2RGB))\n",
    "            plt.title(f\"{dataset} - {image_file}\")\n",
    "            plt.axis('off')\n",
    "            plt.show()\n",
    "\n",
    "# Path to the base directory containing train, test, and val folders\n",
    "base_dir = 'C:/Users/aayud/OneDrive/Desktop/VS Code/Web Dev/TSEC Hacks Artemis/mlserver/wildlife_detection/AOD-20250129T035709Z-002/AOD/data'\n",
    "sets = ['train', 'val']\n",
    "\n",
    "# Visualize samples from train and val sets\n",
    "visualize_samples(base_dir, sets, num_samples=5)"
   ]
  },
  {
   "cell_type": "code",
   "execution_count": 6,
   "metadata": {},
   "outputs": [],
   "source": [
    "from ultralytics import YOLO\n",
    "\n",
    "# Initialize the model\n",
    "model = YOLO('models/yolov8n.pt')\n",
    "\n",
    "res = model.train(data='./AOD-20250129T035709Z-002/AOD/data/aod.yaml', epochs=1, batch=25, imgsz=640)"
   ]
  },
  {
   "cell_type": "code",
   "execution_count": 4,
   "metadata": {},
   "outputs": [],
   "source": [
    "import os\n",
    "\n",
    "def is_label_file_corrupt(label_path):\n",
    "    try:\n",
    "        with open(label_path, 'r') as file:\n",
    "            lines = file.readlines()\n",
    "        for line in lines:\n",
    "            parts = line.strip().split()\n",
    "            if len(parts) != 5:\n",
    "                return True\n",
    "            class_id = int(parts[0])\n",
    "            center_x = float(parts[1])\n",
    "            center_y = float(parts[2])\n",
    "            bbox_width = float(parts[3])\n",
    "            bbox_height = float(parts[4])\n",
    "        return False\n",
    "    except Exception as e:\n",
    "        print(f\"Error reading label file {label_path}: {e}\")\n",
    "        return True\n",
    "\n",
    "# Path to the base directory containing train, test, and val folders\n",
    "base_dir = 'C:/Users/aayud/OneDrive/Desktop/VS Code/Web Dev/TSEC Hacks Artemis/mlserver/wildlife_detection/AOD-20250129T035709Z-002/AOD/data'\n",
    "sets = ['train', 'val', 'test']\n",
    "\n",
    "for dataset in sets:\n",
    "    label_dir = os.path.join(base_dir, dataset, 'labels')\n",
    "\n",
    "    # Identify and remove corrupt label files\n",
    "    for label_file in os.listdir(label_dir):\n",
    "        label_path = os.path.join(label_dir, label_file)\n",
    "        if is_label_file_corrupt(label_path):\n",
    "            print(f\"Removing corrupt label file: {label_path}\")\n",
    "            os.remove(label_path)"
   ]
  },
  {
   "cell_type": "markdown",
   "metadata": {},
   "source": [
    "## New Dataset"
   ]
  },
  {
   "cell_type": "code",
   "execution_count": 2,
   "metadata": {},
   "outputs": [],
   "source": [
    "# Importing necessary libraries\n",
    "import os\n",
    "import shutil\n",
    "import cv2\n",
    "import random\n",
    "import matplotlib.pyplot as plt\n",
    "import numpy as np\n",
    "import copy\n",
    "from ultralytics import YOLO"
   ]
  },
  {
   "cell_type": "code",
   "execution_count": 3,
   "metadata": {},
   "outputs": [
    {
     "data": {
      "text/plain": [
       "['buffalo', 'elephant', 'rhino', 'zebra']"
      ]
     },
     "execution_count": 3,
     "metadata": {},
     "output_type": "execute_result"
    }
   ],
   "source": [
    "# Defining data path and listing its contents\n",
    "ip_datapath='./data'\n",
    "os.listdir(ip_datapath)"
   ]
  },
  {
   "cell_type": "code",
   "execution_count": 4,
   "metadata": {},
   "outputs": [],
   "source": [
    "image_size=640"
   ]
  },
  {
   "cell_type": "code",
   "execution_count": 5,
   "metadata": {},
   "outputs": [],
   "source": [
    "# Creating paths for separate images and labels\n",
    "curr_path=os.getcwd()\n",
    "imgtrainpath = os.path.join(curr_path,'images','train')\n",
    "imgvalpath=os.path.join(curr_path,'images','validation')\n",
    "imgtestpath=os.path.join(curr_path,'images','test')\n",
    "\n",
    "labeltrainpath=os.path.join(curr_path,'labels','train')\n",
    "labelvalpath=os.path.join(curr_path,'labels','validation')\n",
    "labeltestpath=os.path.join(curr_path,'labels','test')\n",
    "\n",
    "# Creating directories for all paths defined\n",
    "os.makedirs(imgtrainpath)\n",
    "os.makedirs(imgvalpath)\n",
    "os.makedirs(imgtestpath)\n",
    "os.makedirs(labeltrainpath)\n",
    "os.makedirs(labelvalpath)\n",
    "os.makedirs(labeltestpath)"
   ]
  },
  {
   "cell_type": "code",
   "execution_count": 6,
   "metadata": {},
   "outputs": [],
   "source": [
    "for dirname in os.listdir(ip_datapath):\n",
    "    dirpath=os.path.join(ip_datapath, dirname)\n",
    "    for file in os.listdir(dirpath):\n",
    "        filepath=os.path.join(dirpath, file)\n",
    "        newname=dirname+'_'+file\n",
    "        if file.endswith((\".txt\")): # if label file, take it to label train path\n",
    "            shutil.copy(filepath, labeltrainpath)\n",
    "            path=os.path.join(labeltrainpath, file)\n",
    "            newpath=os.path.join(labeltrainpath, newname)\n",
    "        elif file.endswith((\".jpg\", \".JPG\")): # if image file, resize and take it to image train path\n",
    "            img_resized=cv2.resize(cv2.imread(filepath), (image_size, image_size))\n",
    "            path=os.path.join(imgtrainpath, file)\n",
    "            cv2.imwrite(path, img_resized)\n",
    "            newpath=os.path.join(imgtrainpath, newname)\n",
    "        os.rename(path, newpath) # Rename the file (label or image)"
   ]
  },
  {
   "cell_type": "code",
   "execution_count": 7,
   "metadata": {},
   "outputs": [
    {
     "data": {
      "text/plain": [
       "(1504, 1504)"
      ]
     },
     "execution_count": 7,
     "metadata": {},
     "output_type": "execute_result"
    }
   ],
   "source": [
    "len(os.listdir(imgtrainpath)), len(os.listdir(labeltrainpath))"
   ]
  },
  {
   "cell_type": "code",
   "execution_count": 8,
   "metadata": {},
   "outputs": [],
   "source": [
    "# function to check if all elements in the list are actually the same\n",
    "def are_all_elements_same(lst):\n",
    "    if not lst:\n",
    "        return True  # An empty list is considered to have all elements the same.\n",
    "\n",
    "    first_element = lst[0]\n",
    "    for element in lst[1:]:\n",
    "        if element != first_element:\n",
    "            return False\n",
    "\n",
    "    return True"
   ]
  },
  {
   "cell_type": "code",
   "execution_count": 9,
   "metadata": {},
   "outputs": [
    {
     "name": "stdout",
     "output_type": "stream",
     "text": [
      "buffalo_273\n",
      "buffalo_291\n",
      "buffalo_297\n",
      "buffalo_298\n",
      "buffalo_299\n",
      "buffalo_300\n",
      "buffalo_301\n",
      "elephant_166\n",
      "elephant_288\n",
      "elephant_290\n",
      "elephant_291\n",
      "elephant_345\n",
      "rhino_238\n",
      "rhino_256\n",
      "rhino_375\n",
      "zebra_073\n",
      "zebra_338\n",
      "zebra_339\n"
     ]
    }
   ],
   "source": [
    "for file in os.listdir(labeltrainpath):\n",
    "    classes_list=[]\n",
    "    with open(os.path.join(labeltrainpath, file), \"r\") as f:\n",
    "        for line in f:\n",
    "            class_id,_,_,_,_=line.strip().split(\" \")\n",
    "            classes_list.append(class_id) # creating list of all unique animal types in given image\n",
    "            \n",
    "    # Checking if different types of animals are present in image\n",
    "    if not are_all_elements_same(classes_list): \n",
    "        filepath=os.path.join(labeltrainpath, file)\n",
    "        newpath=os.path.join(labeltestpath, file)\n",
    "        shutil.move(filepath, newpath) # moving label file to test path\n",
    "        basename=os.path.splitext(file)[0]\n",
    "        print(basename) # printing the image name\n",
    "        imgfilename=basename+'.jpg'\n",
    "        oldimgfilepath=os.path.join(imgtrainpath, imgfilename)\n",
    "        newimgfilepath=os.path.join(imgtestpath, imgfilename) \n",
    "        shutil.move(oldimgfilepath, newimgfilepath) # moving image to test path"
   ]
  },
  {
   "cell_type": "code",
   "execution_count": 10,
   "metadata": {},
   "outputs": [],
   "source": [
    "plt.figure(figsize=(30,30))\n",
    "for i in range(6):\n",
    "    test_image=os.path.join(imgtestpath, os.listdir(imgtestpath)[i])\n",
    "    ax=plt.subplot(3,2,i+1)\n",
    "    \n",
    "    # Display actual image\n",
    "    plt.imshow(cv2.imread(test_image)) \n",
    "    plt.xticks([])\n",
    "    plt.yticks([])\n"
   ]
  },
  {
   "cell_type": "code",
   "execution_count": 11,
   "metadata": {},
   "outputs": [
    {
     "data": {
      "text/plain": [
       "(1486, 1486)"
      ]
     },
     "execution_count": 11,
     "metadata": {},
     "output_type": "execute_result"
    }
   ],
   "source": [
    "# Checking the size of test dataset\n",
    "len(os.listdir(imgtestpath)), len(os.listdir(labeltestpath))\n",
    "\n",
    "# Checking the size of training(+validation) dataset\n",
    "len(os.listdir(imgtrainpath)), len(os.listdir(labeltrainpath))"
   ]
  },
  {
   "cell_type": "code",
   "execution_count": 12,
   "metadata": {},
   "outputs": [],
   "source": [
    "# moving 20% of data to validation\n",
    "\n",
    "factor=0.2 \n",
    "\n",
    "for file in random.sample(os.listdir(imgtrainpath), int(len(os.listdir(imgtrainpath))*factor)):\n",
    "    basename=os.path.splitext(file)[0]\n",
    "    textfilename=basename+'.txt'\n",
    "    labelfilepath=os.path.join(labeltrainpath, textfilename)\n",
    "    labeldestpath=os.path.join(labelvalpath, textfilename)\n",
    "    imgfilepath=os.path.join(imgtrainpath, file)\n",
    "    imgdestpath=os.path.join(imgvalpath, file)\n",
    "    shutil.move(imgfilepath, imgdestpath)\n",
    "    shutil.move(labelfilepath, labeldestpath)"
   ]
  },
  {
   "cell_type": "code",
   "execution_count": 13,
   "metadata": {},
   "outputs": [
    {
     "data": {
      "text/plain": [
       "(297, 297)"
      ]
     },
     "execution_count": 13,
     "metadata": {},
     "output_type": "execute_result"
    }
   ],
   "source": [
    "len(os.listdir(imgtrainpath)), len(os.listdir(labeltrainpath))\n",
    "len(os.listdir(imgvalpath)), len(os.listdir(labelvalpath))"
   ]
  },
  {
   "cell_type": "code",
   "execution_count": 14,
   "metadata": {},
   "outputs": [],
   "source": [
    "# function to obtain bounding box coordinates from text label files\n",
    "def get_bbox_from_label(text_file_path):\n",
    "    bbox_list=[]\n",
    "    with open(text_file_path, \"r\") as file:\n",
    "        for line in file:\n",
    "            class_id,x_centre,y_centre,width,height=line.strip().split(\" \")\n",
    "            x1=(float(x_centre)+(float(width)/2))*image_size\n",
    "            x0=(float(x_centre)-(float(width)/2))*image_size\n",
    "            y1=(float(y_centre)+(float(height)/2))*image_size\n",
    "            y0=(float(y_centre)-(float(height)/2))*image_size\n",
    "            \n",
    "            vertices=np.array([[int(x0), int(y0)], [int(x1), int(y0)], \n",
    "                               [int(x1),int(y1)], [int(x0),int(y1)]])\n",
    "            bbox_list.append(vertices)      \n",
    "    return tuple(bbox_list)"
   ]
  },
  {
   "cell_type": "code",
   "execution_count": 15,
   "metadata": {},
   "outputs": [],
   "source": [
    "# defining red color in RGB to draw bounding box\n",
    "red=(255,0,0) \n",
    "# defining newline variable for config file\n",
    "newline='\\n'"
   ]
  },
  {
   "cell_type": "code",
   "execution_count": 16,
   "metadata": {},
   "outputs": [],
   "source": [
    "# Drawing bounding box for random images in training data\n",
    "plt.figure(figsize=(30,30))\n",
    "for i in range(1,8,2):\n",
    "    k=random.randint(0, len(os.listdir(imgtrainpath))-1)\n",
    "    img_path=os.path.join(imgtrainpath, sorted(os.listdir(imgtrainpath))[k])\n",
    "    label_path=os.path.join(labeltrainpath, sorted(os.listdir(labeltrainpath))[k])\n",
    "    bbox=get_bbox_from_label(label_path) # extracting bounding box coordinates\n",
    "    image=cv2.imread(img_path)\n",
    "    image_copy=copy.deepcopy(image)\n",
    "    ax=plt.subplot(4, 2, i)\n",
    "    plt.imshow(image) # displaying image\n",
    "    plt.xticks([])\n",
    "    plt.yticks([])\n",
    "    cv2.drawContours(image_copy, bbox, -1, red, 2) # drawing bounding box on copy of image\n",
    "    ax=plt.subplot(4, 2, i+1)\n",
    "    plt.imshow(image_copy) # displaying image with bounding box\n",
    "    plt.xticks([])\n",
    "    plt.yticks([])"
   ]
  },
  {
   "cell_type": "code",
   "execution_count": 17,
   "metadata": {},
   "outputs": [],
   "source": [
    "# Starting with a comment in config file\n",
    "ln_1='# Train/val/test sets'+newline\n",
    "\n",
    "# train, val and test path declaration\n",
    "ln_2='train: ' +\"'\"+imgtrainpath+\"'\"+newline\n",
    "ln_3='val: ' +\"'\" + imgvalpath+\"'\"+newline\n",
    "ln_4='test: ' +\"'\" + imgtestpath+\"'\"+newline\n",
    "ln_5=newline\n",
    "ln_6='# Classes'+newline\n",
    "\n",
    "# names of the classes declaration\n",
    "ln_7='names:'+newline\n",
    "ln_8='  0: buffalo'+newline\n",
    "ln_9='  1: elephant'+newline\n",
    "ln_10='  2: rhino'+newline\n",
    "ln_11='  3: zebra'\n",
    "\n",
    "config_lines=[ln_1, ln_2, ln_3, ln_4, ln_5, ln_6, ln_7, ln_8, ln_9, ln_10, ln_11]"
   ]
  },
  {
   "cell_type": "code",
   "execution_count": 18,
   "metadata": {},
   "outputs": [
    {
     "data": {
      "text/plain": [
       "'c:\\\\Users\\\\aayud\\\\OneDrive\\\\Desktop\\\\VS Code\\\\Web Dev\\\\TSEC Hacks Artemis\\\\mlserver\\\\wildlife_detection\\\\config.yaml'"
      ]
     },
     "execution_count": 18,
     "metadata": {},
     "output_type": "execute_result"
    }
   ],
   "source": [
    "# Creating path for config file\n",
    "config_path=os.path.join(curr_path, 'config.yaml')\n",
    "config_path"
   ]
  },
  {
   "cell_type": "code",
   "execution_count": 19,
   "metadata": {},
   "outputs": [],
   "source": [
    "# Writing config file\n",
    "with open(config_path, 'w') as f:\n",
    "    f.writelines(config_lines)"
   ]
  },
  {
   "cell_type": "code",
   "execution_count": 20,
   "metadata": {},
   "outputs": [
    {
     "name": "stderr",
     "output_type": "stream",
     "text": [
      "\n",
      "                   from  n    params  module                                       arguments                     \n",
      "  0                  -1  1      1392  ultralytics.nn.modules.Conv                  [3, 48, 3, 2]                 \n",
      "  1                  -1  1     41664  ultralytics.nn.modules.Conv                  [48, 96, 3, 2]                \n",
      "  2                  -1  2    111360  ultralytics.nn.modules.C2f                   [96, 96, 2, True]             \n",
      "  3                  -1  1    166272  ultralytics.nn.modules.Conv                  [96, 192, 3, 2]               \n",
      "  4                  -1  4    813312  ultralytics.nn.modules.C2f                   [192, 192, 4, True]           \n",
      "  5                  -1  1    664320  ultralytics.nn.modules.Conv                  [192, 384, 3, 2]              \n",
      "  6                  -1  4   3248640  ultralytics.nn.modules.C2f                   [384, 384, 4, True]           \n",
      "  7                  -1  1   1991808  ultralytics.nn.modules.Conv                  [384, 576, 3, 2]              \n",
      "  8                  -1  2   3985920  ultralytics.nn.modules.C2f                   [576, 576, 2, True]           \n",
      "  9                  -1  1    831168  ultralytics.nn.modules.SPPF                  [576, 576, 5]                 \n",
      " 10                  -1  1         0  torch.nn.modules.upsampling.Upsample         [None, 2, 'nearest']          \n",
      " 11             [-1, 6]  1         0  ultralytics.nn.modules.Concat                [1]                           \n",
      " 12                  -1  2   1993728  ultralytics.nn.modules.C2f                   [960, 384, 2]                 \n",
      " 13                  -1  1         0  torch.nn.modules.upsampling.Upsample         [None, 2, 'nearest']          \n",
      " 14             [-1, 4]  1         0  ultralytics.nn.modules.Concat                [1]                           \n",
      " 15                  -1  2    517632  ultralytics.nn.modules.C2f                   [576, 192, 2]                 \n",
      " 16                  -1  1    332160  ultralytics.nn.modules.Conv                  [192, 192, 3, 2]              \n",
      " 17            [-1, 12]  1         0  ultralytics.nn.modules.Concat                [1]                           \n",
      " 18                  -1  2   1846272  ultralytics.nn.modules.C2f                   [576, 384, 2]                 \n",
      " 19                  -1  1   1327872  ultralytics.nn.modules.Conv                  [384, 384, 3, 2]              \n",
      " 20             [-1, 9]  1         0  ultralytics.nn.modules.Concat                [1]                           \n",
      " 21                  -1  2   4207104  ultralytics.nn.modules.C2f                   [960, 576, 2]                 \n",
      " 22        [15, 18, 21]  1   3822016  ultralytics.nn.modules.Detect                [80, [192, 384, 576]]         \n",
      "YOLOv8m summary: 295 layers, 25902640 parameters, 25902624 gradients, 79.3 GFLOPs\n",
      "\n"
     ]
    }
   ],
   "source": [
    "# Using YOLO's pretrained model architecture and weights for training\n",
    "model=YOLO('yolov8m.yaml')"
   ]
  },
  {
   "cell_type": "code",
   "execution_count": 21,
   "metadata": {},
   "outputs": [
    {
     "name": "stderr",
     "output_type": "stream",
     "text": [
      "Ultralytics YOLOv8.0.43  Python-3.11.5 torch-2.3.1+cu121 CUDA:0 (NVIDIA GeForce RTX 3060 Laptop GPU, 6144MiB)\n",
      "\u001b[34m\u001b[1myolo\\engine\\trainer: \u001b[0mtask=detect, mode=train, model=C:\\Users\\aayud\\AppData\\Roaming\\Python\\Python311\\site-packages\\ultralytics\\models\\v8\\yolov8m.yaml, data=c:\\Users\\aayud\\OneDrive\\Desktop\\VS Code\\Web Dev\\TSEC Hacks Artemis\\mlserver\\wildlife_detection\\config.yaml, epochs=20, patience=50, batch=16, imgsz=640, save=True, save_period=-1, cache=False, device=None, workers=8, project=None, name=None, exist_ok=False, pretrained=False, optimizer=SGD, verbose=True, seed=0, deterministic=True, single_cls=False, image_weights=False, rect=False, cos_lr=False, close_mosaic=10, resume=False, min_memory=False, overlap_mask=True, mask_ratio=4, dropout=0.0, val=True, split=val, save_json=False, save_hybrid=False, conf=None, iou=0.7, max_det=300, half=False, dnn=False, plots=True, source=None, show=False, save_txt=False, save_conf=False, save_crop=False, hide_labels=False, hide_conf=False, vid_stride=1, line_thickness=3, visualize=False, augment=False, agnostic_nms=False, classes=None, retina_masks=False, boxes=True, format=torchscript, keras=False, optimize=False, int8=False, dynamic=False, simplify=False, opset=None, workspace=4, nms=False, lr0=0.01, lrf=0.01, momentum=0.937, weight_decay=0.0005, warmup_epochs=3.0, warmup_momentum=0.8, warmup_bias_lr=0.1, box=7.5, cls=0.5, dfl=1.5, fl_gamma=0.0, label_smoothing=0.0, nbs=64, hsv_h=0.015, hsv_s=0.7, hsv_v=0.4, degrees=0.0, translate=0.1, scale=0.5, shear=0.0, perspective=0.0, flipud=0.0, fliplr=0.5, mosaic=1.0, mixup=0.0, copy_paste=0.0, cfg=None, v5loader=False, tracker=botsort.yaml, save_dir=runs\\detect\\train6\n",
      "\n",
      "                   from  n    params  module                                       arguments                     \n",
      "  0                  -1  1      1392  ultralytics.nn.modules.Conv                  [3, 48, 3, 2]                 \n",
      "  1                  -1  1     41664  ultralytics.nn.modules.Conv                  [48, 96, 3, 2]                \n",
      "  2                  -1  2    111360  ultralytics.nn.modules.C2f                   [96, 96, 2, True]             \n",
      "  3                  -1  1    166272  ultralytics.nn.modules.Conv                  [96, 192, 3, 2]               \n",
      "  4                  -1  4    813312  ultralytics.nn.modules.C2f                   [192, 192, 4, True]           \n",
      "  5                  -1  1    664320  ultralytics.nn.modules.Conv                  [192, 384, 3, 2]              \n",
      "  6                  -1  4   3248640  ultralytics.nn.modules.C2f                   [384, 384, 4, True]           \n",
      "  7                  -1  1   1991808  ultralytics.nn.modules.Conv                  [384, 576, 3, 2]              \n",
      "  8                  -1  2   3985920  ultralytics.nn.modules.C2f                   [576, 576, 2, True]           \n",
      "  9                  -1  1    831168  ultralytics.nn.modules.SPPF                  [576, 576, 5]                 \n",
      " 10                  -1  1         0  torch.nn.modules.upsampling.Upsample         [None, 2, 'nearest']          \n",
      " 11             [-1, 6]  1         0  ultralytics.nn.modules.Concat                [1]                           \n",
      " 12                  -1  2   1993728  ultralytics.nn.modules.C2f                   [960, 384, 2]                 \n",
      " 13                  -1  1         0  torch.nn.modules.upsampling.Upsample         [None, 2, 'nearest']          \n",
      " 14             [-1, 4]  1         0  ultralytics.nn.modules.Concat                [1]                           \n",
      " 15                  -1  2    517632  ultralytics.nn.modules.C2f                   [576, 192, 2]                 \n",
      " 16                  -1  1    332160  ultralytics.nn.modules.Conv                  [192, 192, 3, 2]              \n",
      " 17            [-1, 12]  1         0  ultralytics.nn.modules.Concat                [1]                           \n",
      " 18                  -1  2   1846272  ultralytics.nn.modules.C2f                   [576, 384, 2]                 \n",
      " 19                  -1  1   1327872  ultralytics.nn.modules.Conv                  [384, 384, 3, 2]              \n",
      " 20             [-1, 9]  1         0  ultralytics.nn.modules.Concat                [1]                           \n",
      " 21                  -1  2   4207104  ultralytics.nn.modules.C2f                   [960, 576, 2]                 \n",
      " 22        [15, 18, 21]  1   3778012  ultralytics.nn.modules.Detect                [4, [192, 384, 576]]          \n",
      "YOLOv8m summary: 295 layers, 25858636 parameters, 25858620 gradients, 79.1 GFLOPs\n",
      "\n",
      "\u001b[34m\u001b[1moptimizer:\u001b[0m SGD(lr=0.01) with parameter groups 77 weight(decay=0.0), 84 weight(decay=0.0005), 83 bias\n",
      "\u001b[34m\u001b[1mtrain: \u001b[0mScanning C:\\Users\\aayud\\OneDrive\\Desktop\\VS Code\\Web Dev\\TSEC Hacks Artemis\\mlserver\\wildlife_detection\\labels\\train.cache... 1189 images, 0 backgrounds, 0 corrupt: 100%|██████████| 1189/1189 [00:00<?, ?it/s]\n",
      "C:\\Users\\aayud\\AppData\\Roaming\\Python\\Python311\\site-packages\\albumentations\\core\\composition.py:147: UserWarning: Got processor for bboxes, but no transform to process it.\n",
      "  self._set_keys()\n",
      "\u001b[34m\u001b[1malbumentations: \u001b[0mBlur(p=0.01, blur_limit=(3, 7)), MedianBlur(p=0.01, blur_limit=(3, 7)), ToGray(p=0.01), CLAHE(p=0.01, clip_limit=(1, 4.0), tile_grid_size=(8, 8))\n",
      "\u001b[34m\u001b[1mval: \u001b[0mScanning C:\\Users\\aayud\\OneDrive\\Desktop\\VS Code\\Web Dev\\TSEC Hacks Artemis\\mlserver\\wildlife_detection\\labels\\validation.cache... 297 images, 0 backgrounds, 0 corrupt: 100%|██████████| 297/297 [00:00<?, ?it/s]\n",
      "Plotting labels to runs\\detect\\train6\\labels.jpg... \n",
      "C:\\Users\\aayud\\AppData\\Roaming\\Python\\Python311\\site-packages\\seaborn\\axisgrid.py:123: UserWarning: The figure layout has changed to tight\n",
      "  self._figure.tight_layout(*args, **kwargs)\n",
      "Image sizes 640 train, 640 val\n",
      "Using 8 dataloader workers\n",
      "Logging results to \u001b[1mruns\\detect\\train6\u001b[0m\n",
      "Starting training for 20 epochs...\n"
     ]
    }
   ],
   "source": [
    "#  Training the model\n",
    "import torch\n",
    "results=model.train(data=config_path, epochs=20)\n",
    "model.save('wildlife_detector.pt')"
   ]
  },
  {
   "cell_type": "code",
   "execution_count": null,
   "metadata": {},
   "outputs": [],
   "source": [
    "import matplotlib.pyplot as plt\n",
    "from ultralytics import YOLO\n",
    "\n",
    "# Load the trained model\n",
    "device = torch.device('cuda') if torch.cuda.is_available() else torch.device('cpu')\n",
    "model = YOLO('wildlife_detector.pt')  # Replace 'best_model.pt' with the path to your trained model\n",
    "\n",
    "metrics = model.val(data=config_path, device=device)\n",
    "\n",
    "# Print the evaluation metrics\n",
    "print(metrics)\n",
    "\n",
    "# Visualize predictions on a few validation images\n",
    "def visualize_predictions(model, image_paths):\n",
    "    for image_path in image_paths:\n",
    "        results = model(image_path)\n",
    "        results.show()\n",
    "\n",
    "# List of validation images to visualize\n",
    "val_image_paths = [\n",
    "    'images/test/elephant_290.jpg',\n",
    "    'images/test/buffalo_291.jpg',\n",
    "    'images/test/rhino_256.jpg',\n",
    "]"
   ]
  },
  {
   "cell_type": "code",
   "execution_count": null,
   "metadata": {},
   "outputs": [],
   "source": []
  }
 ],
 "metadata": {
  "kernelspec": {
   "display_name": "Python 3",
   "language": "python",
   "name": "python3"
  },
  "language_info": {
   "codemirror_mode": {
    "name": "ipython",
    "version": 3
   },
   "file_extension": ".py",
   "mimetype": "text/x-python",
   "name": "python",
   "nbconvert_exporter": "python",
   "pygments_lexer": "ipython3",
   "version": "3.11.5"
  }
 },
 "nbformat": 4,
 "nbformat_minor": 2
}
